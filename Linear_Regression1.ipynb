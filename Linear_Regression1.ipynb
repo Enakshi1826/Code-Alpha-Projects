{
 "cells": [
  {
   "cell_type": "code",
   "execution_count": 2,
   "id": "6f075e1b-48f4-4e2c-8357-d522c35b23cc",
   "metadata": {
    "tags": []
   },
   "outputs": [
    {
     "data": {
      "text/html": [
       "<div>\n",
       "<style scoped>\n",
       "    .dataframe tbody tr th:only-of-type {\n",
       "        vertical-align: middle;\n",
       "    }\n",
       "\n",
       "    .dataframe tbody tr th {\n",
       "        vertical-align: top;\n",
       "    }\n",
       "\n",
       "    .dataframe thead th {\n",
       "        text-align: right;\n",
       "    }\n",
       "</style>\n",
       "<table border=\"1\" class=\"dataframe\">\n",
       "  <thead>\n",
       "    <tr style=\"text-align: right;\">\n",
       "      <th></th>\n",
       "      <th>Model-Year</th>\n",
       "      <th>Make</th>\n",
       "      <th>Model</th>\n",
       "      <th>Vehicle-Class</th>\n",
       "      <th>Engine-Size</th>\n",
       "      <th>Cylinders</th>\n",
       "      <th>Transmission</th>\n",
       "      <th>Fuel-Type</th>\n",
       "      <th>Fuel-Consumption-City</th>\n",
       "      <th>Fuel-Consumption-Hwy</th>\n",
       "      <th>Fuel-Consumption-Comb</th>\n",
       "      <th>CO2-Emissions</th>\n",
       "    </tr>\n",
       "  </thead>\n",
       "  <tbody>\n",
       "    <tr>\n",
       "      <th>0</th>\n",
       "      <td>2019</td>\n",
       "      <td>Acura</td>\n",
       "      <td>ILX</td>\n",
       "      <td>Compact</td>\n",
       "      <td>2.4</td>\n",
       "      <td>4</td>\n",
       "      <td>AM8</td>\n",
       "      <td>Z</td>\n",
       "      <td>9.9</td>\n",
       "      <td>7.0</td>\n",
       "      <td>8.6</td>\n",
       "      <td>199</td>\n",
       "    </tr>\n",
       "    <tr>\n",
       "      <th>1</th>\n",
       "      <td>2019</td>\n",
       "      <td>Acura</td>\n",
       "      <td>MDX SH-AWD</td>\n",
       "      <td>SUV: Small</td>\n",
       "      <td>3.5</td>\n",
       "      <td>6</td>\n",
       "      <td>AS9</td>\n",
       "      <td>Z</td>\n",
       "      <td>12.2</td>\n",
       "      <td>9.0</td>\n",
       "      <td>10.8</td>\n",
       "      <td>252</td>\n",
       "    </tr>\n",
       "    <tr>\n",
       "      <th>2</th>\n",
       "      <td>2019</td>\n",
       "      <td>Acura</td>\n",
       "      <td>MDX SH-AWD A-SPEC</td>\n",
       "      <td>SUV: Small</td>\n",
       "      <td>3.5</td>\n",
       "      <td>6</td>\n",
       "      <td>AS9</td>\n",
       "      <td>Z</td>\n",
       "      <td>12.2</td>\n",
       "      <td>9.5</td>\n",
       "      <td>11.0</td>\n",
       "      <td>258</td>\n",
       "    </tr>\n",
       "    <tr>\n",
       "      <th>3</th>\n",
       "      <td>2019</td>\n",
       "      <td>Acura</td>\n",
       "      <td>MDX Hybrid AWD</td>\n",
       "      <td>SUV: Small</td>\n",
       "      <td>3.0</td>\n",
       "      <td>6</td>\n",
       "      <td>AM7</td>\n",
       "      <td>Z</td>\n",
       "      <td>9.1</td>\n",
       "      <td>9.0</td>\n",
       "      <td>9.0</td>\n",
       "      <td>210</td>\n",
       "    </tr>\n",
       "    <tr>\n",
       "      <th>4</th>\n",
       "      <td>2019</td>\n",
       "      <td>Acura</td>\n",
       "      <td>NSX</td>\n",
       "      <td>Two-seater</td>\n",
       "      <td>3.5</td>\n",
       "      <td>6</td>\n",
       "      <td>AM9</td>\n",
       "      <td>Z</td>\n",
       "      <td>11.1</td>\n",
       "      <td>10.8</td>\n",
       "      <td>11.0</td>\n",
       "      <td>261</td>\n",
       "    </tr>\n",
       "    <tr>\n",
       "      <th>5</th>\n",
       "      <td>2019</td>\n",
       "      <td>Acura</td>\n",
       "      <td>RDX AWD</td>\n",
       "      <td>SUV: Small</td>\n",
       "      <td>2.0</td>\n",
       "      <td>4</td>\n",
       "      <td>AS10</td>\n",
       "      <td>Z</td>\n",
       "      <td>11.0</td>\n",
       "      <td>8.6</td>\n",
       "      <td>9.9</td>\n",
       "      <td>232</td>\n",
       "    </tr>\n",
       "    <tr>\n",
       "      <th>6</th>\n",
       "      <td>2019</td>\n",
       "      <td>Acura</td>\n",
       "      <td>RDX AWD A-SPEC</td>\n",
       "      <td>SUV: Small</td>\n",
       "      <td>2.0</td>\n",
       "      <td>4</td>\n",
       "      <td>AS10</td>\n",
       "      <td>Z</td>\n",
       "      <td>11.3</td>\n",
       "      <td>9.1</td>\n",
       "      <td>10.3</td>\n",
       "      <td>242</td>\n",
       "    </tr>\n",
       "    <tr>\n",
       "      <th>7</th>\n",
       "      <td>2019</td>\n",
       "      <td>Acura</td>\n",
       "      <td>RLX Hybrid</td>\n",
       "      <td>Mid-size</td>\n",
       "      <td>3.5</td>\n",
       "      <td>6</td>\n",
       "      <td>AM7</td>\n",
       "      <td>Z</td>\n",
       "      <td>8.4</td>\n",
       "      <td>8.2</td>\n",
       "      <td>8.4</td>\n",
       "      <td>196</td>\n",
       "    </tr>\n",
       "    <tr>\n",
       "      <th>8</th>\n",
       "      <td>2019</td>\n",
       "      <td>Acura</td>\n",
       "      <td>TLX</td>\n",
       "      <td>Compact</td>\n",
       "      <td>2.4</td>\n",
       "      <td>4</td>\n",
       "      <td>AM8</td>\n",
       "      <td>Z</td>\n",
       "      <td>10.0</td>\n",
       "      <td>7.1</td>\n",
       "      <td>8.7</td>\n",
       "      <td>205</td>\n",
       "    </tr>\n",
       "    <tr>\n",
       "      <th>9</th>\n",
       "      <td>2019</td>\n",
       "      <td>Acura</td>\n",
       "      <td>TLX A-SPEC</td>\n",
       "      <td>Compact</td>\n",
       "      <td>2.4</td>\n",
       "      <td>4</td>\n",
       "      <td>AM8</td>\n",
       "      <td>Z</td>\n",
       "      <td>10.2</td>\n",
       "      <td>7.4</td>\n",
       "      <td>8.9</td>\n",
       "      <td>209</td>\n",
       "    </tr>\n",
       "  </tbody>\n",
       "</table>\n",
       "</div>"
      ],
      "text/plain": [
       "   Model-Year   Make              Model Vehicle-Class  Engine-Size  Cylinders  \\\n",
       "0        2019  Acura                ILX       Compact          2.4          4   \n",
       "1        2019  Acura         MDX SH-AWD    SUV: Small          3.5          6   \n",
       "2        2019  Acura  MDX SH-AWD A-SPEC    SUV: Small          3.5          6   \n",
       "3        2019  Acura     MDX Hybrid AWD    SUV: Small          3.0          6   \n",
       "4        2019  Acura                NSX    Two-seater          3.5          6   \n",
       "5        2019  Acura            RDX AWD    SUV: Small          2.0          4   \n",
       "6        2019  Acura     RDX AWD A-SPEC    SUV: Small          2.0          4   \n",
       "7        2019  Acura         RLX Hybrid      Mid-size          3.5          6   \n",
       "8        2019  Acura                TLX       Compact          2.4          4   \n",
       "9        2019  Acura         TLX A-SPEC       Compact          2.4          4   \n",
       "\n",
       "  Transmission Fuel-Type  Fuel-Consumption-City  Fuel-Consumption-Hwy  \\\n",
       "0          AM8         Z                    9.9                   7.0   \n",
       "1          AS9         Z                   12.2                   9.0   \n",
       "2          AS9         Z                   12.2                   9.5   \n",
       "3          AM7         Z                    9.1                   9.0   \n",
       "4          AM9         Z                   11.1                  10.8   \n",
       "5         AS10         Z                   11.0                   8.6   \n",
       "6         AS10         Z                   11.3                   9.1   \n",
       "7          AM7         Z                    8.4                   8.2   \n",
       "8          AM8         Z                   10.0                   7.1   \n",
       "9          AM8         Z                   10.2                   7.4   \n",
       "\n",
       "   Fuel-Consumption-Comb  CO2-Emissions  \n",
       "0                    8.6            199  \n",
       "1                   10.8            252  \n",
       "2                   11.0            258  \n",
       "3                    9.0            210  \n",
       "4                   11.0            261  \n",
       "5                    9.9            232  \n",
       "6                   10.3            242  \n",
       "7                    8.4            196  \n",
       "8                    8.7            205  \n",
       "9                    8.9            209  "
      ]
     },
     "execution_count": 2,
     "metadata": {},
     "output_type": "execute_result"
    }
   ],
   "source": [
    "import numpy as np \n",
    "import pandas as pd\n",
    "import matplotlib.pyplot as plt\n",
    "import seaborn as sns\n",
    "from sklearn import linear_model\n",
    "\n",
    "Data=pd.read_csv(\"./Fuel consumption 2019.csv\")\n",
    "Data.head(10)"
   ]
  },
  {
   "cell_type": "code",
   "execution_count": 5,
   "id": "179a9ce5-ec5c-4557-9e26-00cb0a6caedd",
   "metadata": {
    "tags": []
   },
   "outputs": [
    {
     "data": {
      "text/plain": [
       "Index(['Model-Year', 'Make', 'Model', 'Vehicle-Class', 'Engine-Size',\n",
       "       'Cylinders', 'Transmission', 'Fuel-Type', 'Fuel-Consumption-City',\n",
       "       'Fuel-Consumption-Hwy', 'Fuel-Consumption-Comb', 'CO2-Emissions'],\n",
       "      dtype='object')"
      ]
     },
     "execution_count": 5,
     "metadata": {},
     "output_type": "execute_result"
    }
   ],
   "source": [
    "Data.columns"
   ]
  },
  {
   "cell_type": "code",
   "execution_count": 6,
   "id": "95951dae-8e11-4328-bbc5-c625cfc9ba60",
   "metadata": {
    "tags": []
   },
   "outputs": [
    {
     "name": "stdout",
     "output_type": "stream",
     "text": [
      "<class 'pandas.core.frame.DataFrame'>\n",
      "RangeIndex: 1046 entries, 0 to 1045\n",
      "Data columns (total 12 columns):\n",
      " #   Column                 Non-Null Count  Dtype  \n",
      "---  ------                 --------------  -----  \n",
      " 0   Model-Year             1046 non-null   int64  \n",
      " 1   Make                   1046 non-null   object \n",
      " 2   Model                  1046 non-null   object \n",
      " 3   Vehicle-Class          1046 non-null   object \n",
      " 4   Engine-Size            1046 non-null   float64\n",
      " 5   Cylinders              1046 non-null   int64  \n",
      " 6   Transmission           1046 non-null   object \n",
      " 7   Fuel-Type              1046 non-null   object \n",
      " 8   Fuel-Consumption-City  1046 non-null   float64\n",
      " 9   Fuel-Consumption-Hwy   1046 non-null   float64\n",
      " 10  Fuel-Consumption-Comb  1046 non-null   float64\n",
      " 11  CO2-Emissions          1046 non-null   int64  \n",
      "dtypes: float64(4), int64(3), object(5)\n",
      "memory usage: 98.2+ KB\n"
     ]
    }
   ],
   "source": [
    "Data.info()"
   ]
  },
  {
   "cell_type": "code",
   "execution_count": 3,
   "id": "c27a2ac1-f6d5-4f26-8eb1-6d61e40d3177",
   "metadata": {
    "tags": []
   },
   "outputs": [
    {
     "data": {
      "text/html": [
       "<div>\n",
       "<style scoped>\n",
       "    .dataframe tbody tr th:only-of-type {\n",
       "        vertical-align: middle;\n",
       "    }\n",
       "\n",
       "    .dataframe tbody tr th {\n",
       "        vertical-align: top;\n",
       "    }\n",
       "\n",
       "    .dataframe thead th {\n",
       "        text-align: right;\n",
       "    }\n",
       "</style>\n",
       "<table border=\"1\" class=\"dataframe\">\n",
       "  <thead>\n",
       "    <tr style=\"text-align: right;\">\n",
       "      <th></th>\n",
       "      <th>Model-Year</th>\n",
       "      <th>Make</th>\n",
       "      <th>Model</th>\n",
       "      <th>Vehicle-Class</th>\n",
       "      <th>Engine-Size</th>\n",
       "      <th>Cylinders</th>\n",
       "      <th>Transmission</th>\n",
       "      <th>Fuel-Type</th>\n",
       "      <th>Fuel-Consumption-City</th>\n",
       "      <th>Fuel-Consumption-Hwy</th>\n",
       "      <th>Fuel-Consumption-Comb</th>\n",
       "      <th>CO2-Emissions</th>\n",
       "    </tr>\n",
       "  </thead>\n",
       "  <tbody>\n",
       "    <tr>\n",
       "      <th>0</th>\n",
       "      <td>2019</td>\n",
       "      <td>Acura</td>\n",
       "      <td>ILX</td>\n",
       "      <td>Compact</td>\n",
       "      <td>2.4</td>\n",
       "      <td>4</td>\n",
       "      <td>AM8</td>\n",
       "      <td>Z</td>\n",
       "      <td>9.9</td>\n",
       "      <td>7.0</td>\n",
       "      <td>8.6</td>\n",
       "      <td>199</td>\n",
       "    </tr>\n",
       "    <tr>\n",
       "      <th>1</th>\n",
       "      <td>2019</td>\n",
       "      <td>Acura</td>\n",
       "      <td>MDX SH-AWD</td>\n",
       "      <td>SUV: Small</td>\n",
       "      <td>3.5</td>\n",
       "      <td>6</td>\n",
       "      <td>AS9</td>\n",
       "      <td>Z</td>\n",
       "      <td>12.2</td>\n",
       "      <td>9.0</td>\n",
       "      <td>10.8</td>\n",
       "      <td>252</td>\n",
       "    </tr>\n",
       "    <tr>\n",
       "      <th>2</th>\n",
       "      <td>2019</td>\n",
       "      <td>Acura</td>\n",
       "      <td>MDX SH-AWD A-SPEC</td>\n",
       "      <td>SUV: Small</td>\n",
       "      <td>3.5</td>\n",
       "      <td>6</td>\n",
       "      <td>AS9</td>\n",
       "      <td>Z</td>\n",
       "      <td>12.2</td>\n",
       "      <td>9.5</td>\n",
       "      <td>11.0</td>\n",
       "      <td>258</td>\n",
       "    </tr>\n",
       "    <tr>\n",
       "      <th>3</th>\n",
       "      <td>2019</td>\n",
       "      <td>Acura</td>\n",
       "      <td>MDX Hybrid AWD</td>\n",
       "      <td>SUV: Small</td>\n",
       "      <td>3.0</td>\n",
       "      <td>6</td>\n",
       "      <td>AM7</td>\n",
       "      <td>Z</td>\n",
       "      <td>9.1</td>\n",
       "      <td>9.0</td>\n",
       "      <td>9.0</td>\n",
       "      <td>210</td>\n",
       "    </tr>\n",
       "    <tr>\n",
       "      <th>4</th>\n",
       "      <td>2019</td>\n",
       "      <td>Acura</td>\n",
       "      <td>NSX</td>\n",
       "      <td>Two-seater</td>\n",
       "      <td>3.5</td>\n",
       "      <td>6</td>\n",
       "      <td>AM9</td>\n",
       "      <td>Z</td>\n",
       "      <td>11.1</td>\n",
       "      <td>10.8</td>\n",
       "      <td>11.0</td>\n",
       "      <td>261</td>\n",
       "    </tr>\n",
       "  </tbody>\n",
       "</table>\n",
       "</div>"
      ],
      "text/plain": [
       "   Model-Year   Make              Model Vehicle-Class  Engine-Size  Cylinders  \\\n",
       "0        2019  Acura                ILX       Compact          2.4          4   \n",
       "1        2019  Acura         MDX SH-AWD    SUV: Small          3.5          6   \n",
       "2        2019  Acura  MDX SH-AWD A-SPEC    SUV: Small          3.5          6   \n",
       "3        2019  Acura     MDX Hybrid AWD    SUV: Small          3.0          6   \n",
       "4        2019  Acura                NSX    Two-seater          3.5          6   \n",
       "\n",
       "  Transmission Fuel-Type  Fuel-Consumption-City  Fuel-Consumption-Hwy  \\\n",
       "0          AM8         Z                    9.9                   7.0   \n",
       "1          AS9         Z                   12.2                   9.0   \n",
       "2          AS9         Z                   12.2                   9.5   \n",
       "3          AM7         Z                    9.1                   9.0   \n",
       "4          AM9         Z                   11.1                  10.8   \n",
       "\n",
       "   Fuel-Consumption-Comb  CO2-Emissions  \n",
       "0                    8.6            199  \n",
       "1                   10.8            252  \n",
       "2                   11.0            258  \n",
       "3                    9.0            210  \n",
       "4                   11.0            261  "
      ]
     },
     "execution_count": 3,
     "metadata": {},
     "output_type": "execute_result"
    }
   ],
   "source": [
    "df=pd.DataFrame(data=Data)\n",
    "df.head()"
   ]
  },
  {
   "cell_type": "code",
   "execution_count": 10,
   "id": "133346e2-e10f-460b-b1ad-6ed4843687b4",
   "metadata": {
    "tags": []
   },
   "outputs": [
    {
     "data": {
      "text/plain": [
       "<bound method NDFrame._add_numeric_operations.<locals>.mean of       Model-Year   Make              Model  Vehicle-Class  Engine-Size  \\\n",
       "0           2019  Acura                ILX        Compact          2.4   \n",
       "1           2019  Acura         MDX SH-AWD     SUV: Small          3.5   \n",
       "2           2019  Acura  MDX SH-AWD A-SPEC     SUV: Small          3.5   \n",
       "3           2019  Acura     MDX Hybrid AWD     SUV: Small          3.0   \n",
       "4           2019  Acura                NSX     Two-seater          3.5   \n",
       "...          ...    ...                ...            ...          ...   \n",
       "1041        2019  Volvo        XC40 T5 AWD     SUV: Small          2.0   \n",
       "1042        2019  Volvo        XC60 T5 AWD     SUV: Small          2.0   \n",
       "1043        2019  Volvo        XC60 T6 AWD     SUV: Small          2.0   \n",
       "1044        2019  Volvo        XC90 T5 AWD  SUV: Standard          2.0   \n",
       "1045        2019  Volvo        XC90 T6 AWD  SUV: Standard          2.0   \n",
       "\n",
       "      Cylinders Transmission Fuel-Type  Fuel-Consumption-City  \\\n",
       "0             4          AM8         Z                    9.9   \n",
       "1             6          AS9         Z                   12.2   \n",
       "2             6          AS9         Z                   12.2   \n",
       "3             6          AM7         Z                    9.1   \n",
       "4             6          AM9         Z                   11.1   \n",
       "...         ...          ...       ...                    ...   \n",
       "1041          4          AS8         Z                   10.3   \n",
       "1042          4          AS8         Z                   11.3   \n",
       "1043          4          AS8         Z                   11.8   \n",
       "1044          4          AS8         Z                   11.3   \n",
       "1045          4          AS8         Z                   12.1   \n",
       "\n",
       "      Fuel-Consumption-Hwy  Fuel-Consumption-Comb  CO2-Emissions  \n",
       "0                      7.0                    8.6            199  \n",
       "1                      9.0                   10.8            252  \n",
       "2                      9.5                   11.0            258  \n",
       "3                      9.0                    9.0            210  \n",
       "4                     10.8                   11.0            261  \n",
       "...                    ...                    ...            ...  \n",
       "1041                   7.5                    9.0            211  \n",
       "1042                   8.5                   10.0            233  \n",
       "1043                   8.6                   10.4            242  \n",
       "1044                   8.5                   10.0            233  \n",
       "1045                   8.9                   10.7            250  \n",
       "\n",
       "[1046 rows x 12 columns]>"
      ]
     },
     "execution_count": 10,
     "metadata": {},
     "output_type": "execute_result"
    }
   ],
   "source": [
    "df.mean"
   ]
  },
  {
   "cell_type": "code",
   "execution_count": 4,
   "id": "e7e78a90-ff40-4485-b24b-109bfd34b806",
   "metadata": {
    "tags": []
   },
   "outputs": [
    {
     "data": {
      "text/html": [
       "<div>\n",
       "<style scoped>\n",
       "    .dataframe tbody tr th:only-of-type {\n",
       "        vertical-align: middle;\n",
       "    }\n",
       "\n",
       "    .dataframe tbody tr th {\n",
       "        vertical-align: top;\n",
       "    }\n",
       "\n",
       "    .dataframe thead th {\n",
       "        text-align: right;\n",
       "    }\n",
       "</style>\n",
       "<table border=\"1\" class=\"dataframe\">\n",
       "  <thead>\n",
       "    <tr style=\"text-align: right;\">\n",
       "      <th></th>\n",
       "      <th>Model-Year</th>\n",
       "      <th>Make</th>\n",
       "      <th>Model</th>\n",
       "      <th>Vehicle-Class</th>\n",
       "      <th>Engine-Size</th>\n",
       "      <th>Cylinders</th>\n",
       "      <th>Transmission</th>\n",
       "      <th>Fuel-Type</th>\n",
       "      <th>Fuel-Consumption-City</th>\n",
       "      <th>Fuel-Consumption-Hwy</th>\n",
       "      <th>Fuel-Consumption-Comb</th>\n",
       "      <th>CO2-Emissions</th>\n",
       "    </tr>\n",
       "  </thead>\n",
       "  <tbody>\n",
       "    <tr>\n",
       "      <th>25</th>\n",
       "      <td>2019</td>\n",
       "      <td>Aston Martin</td>\n",
       "      <td>Vantage V8</td>\n",
       "      <td>Two-seater</td>\n",
       "      <td>4.0</td>\n",
       "      <td>8</td>\n",
       "      <td>A8</td>\n",
       "      <td>Z</td>\n",
       "      <td>12.7</td>\n",
       "      <td>9.4</td>\n",
       "      <td>11.2</td>\n",
       "      <td>264</td>\n",
       "    </tr>\n",
       "  </tbody>\n",
       "</table>\n",
       "</div>"
      ],
      "text/plain": [
       "    Model-Year          Make       Model Vehicle-Class  Engine-Size  \\\n",
       "25        2019  Aston Martin  Vantage V8    Two-seater          4.0   \n",
       "\n",
       "    Cylinders Transmission Fuel-Type  Fuel-Consumption-City  \\\n",
       "25          8           A8         Z                   12.7   \n",
       "\n",
       "    Fuel-Consumption-Hwy  Fuel-Consumption-Comb  CO2-Emissions  \n",
       "25                   9.4                   11.2            264  "
      ]
     },
     "execution_count": 4,
     "metadata": {},
     "output_type": "execute_result"
    }
   ],
   "source": [
    "df.iloc[[25]]"
   ]
  },
  {
   "cell_type": "code",
   "execution_count": 11,
   "id": "bd7c537a-11cd-4e5a-831c-3d4691286aa0",
   "metadata": {
    "tags": []
   },
   "outputs": [
    {
     "data": {
      "text/html": [
       "<div>\n",
       "<style scoped>\n",
       "    .dataframe tbody tr th:only-of-type {\n",
       "        vertical-align: middle;\n",
       "    }\n",
       "\n",
       "    .dataframe tbody tr th {\n",
       "        vertical-align: top;\n",
       "    }\n",
       "\n",
       "    .dataframe thead th {\n",
       "        text-align: right;\n",
       "    }\n",
       "</style>\n",
       "<table border=\"1\" class=\"dataframe\">\n",
       "  <thead>\n",
       "    <tr style=\"text-align: right;\">\n",
       "      <th></th>\n",
       "      <th>Model-Year</th>\n",
       "      <th>Engine-Size</th>\n",
       "      <th>Cylinders</th>\n",
       "      <th>Fuel-Consumption-City</th>\n",
       "      <th>Fuel-Consumption-Hwy</th>\n",
       "      <th>Fuel-Consumption-Comb</th>\n",
       "      <th>CO2-Emissions</th>\n",
       "    </tr>\n",
       "  </thead>\n",
       "  <tbody>\n",
       "    <tr>\n",
       "      <th>count</th>\n",
       "      <td>1046.0</td>\n",
       "      <td>1046.000000</td>\n",
       "      <td>1046.000000</td>\n",
       "      <td>1046.000000</td>\n",
       "      <td>1046.000000</td>\n",
       "      <td>1046.000000</td>\n",
       "      <td>1046.000000</td>\n",
       "    </tr>\n",
       "    <tr>\n",
       "      <th>mean</th>\n",
       "      <td>2019.0</td>\n",
       "      <td>3.108795</td>\n",
       "      <td>5.595602</td>\n",
       "      <td>12.378011</td>\n",
       "      <td>9.038050</td>\n",
       "      <td>10.872562</td>\n",
       "      <td>251.312620</td>\n",
       "    </tr>\n",
       "    <tr>\n",
       "      <th>std</th>\n",
       "      <td>0.0</td>\n",
       "      <td>1.315989</td>\n",
       "      <td>1.796845</td>\n",
       "      <td>3.294286</td>\n",
       "      <td>2.049742</td>\n",
       "      <td>2.697321</td>\n",
       "      <td>57.017573</td>\n",
       "    </tr>\n",
       "    <tr>\n",
       "      <th>min</th>\n",
       "      <td>2019.0</td>\n",
       "      <td>1.000000</td>\n",
       "      <td>3.000000</td>\n",
       "      <td>4.200000</td>\n",
       "      <td>4.000000</td>\n",
       "      <td>4.100000</td>\n",
       "      <td>96.000000</td>\n",
       "    </tr>\n",
       "    <tr>\n",
       "      <th>25%</th>\n",
       "      <td>2019.0</td>\n",
       "      <td>2.000000</td>\n",
       "      <td>4.000000</td>\n",
       "      <td>10.200000</td>\n",
       "      <td>7.600000</td>\n",
       "      <td>9.100000</td>\n",
       "      <td>212.250000</td>\n",
       "    </tr>\n",
       "    <tr>\n",
       "      <th>50%</th>\n",
       "      <td>2019.0</td>\n",
       "      <td>3.000000</td>\n",
       "      <td>6.000000</td>\n",
       "      <td>12.050000</td>\n",
       "      <td>8.800000</td>\n",
       "      <td>10.600000</td>\n",
       "      <td>248.000000</td>\n",
       "    </tr>\n",
       "    <tr>\n",
       "      <th>75%</th>\n",
       "      <td>2019.0</td>\n",
       "      <td>3.600000</td>\n",
       "      <td>6.000000</td>\n",
       "      <td>14.300000</td>\n",
       "      <td>10.200000</td>\n",
       "      <td>12.575000</td>\n",
       "      <td>289.000000</td>\n",
       "    </tr>\n",
       "    <tr>\n",
       "      <th>max</th>\n",
       "      <td>2019.0</td>\n",
       "      <td>8.000000</td>\n",
       "      <td>16.000000</td>\n",
       "      <td>26.800000</td>\n",
       "      <td>17.200000</td>\n",
       "      <td>22.200000</td>\n",
       "      <td>522.000000</td>\n",
       "    </tr>\n",
       "  </tbody>\n",
       "</table>\n",
       "</div>"
      ],
      "text/plain": [
       "       Model-Year  Engine-Size    Cylinders  Fuel-Consumption-City  \\\n",
       "count      1046.0  1046.000000  1046.000000            1046.000000   \n",
       "mean       2019.0     3.108795     5.595602              12.378011   \n",
       "std           0.0     1.315989     1.796845               3.294286   \n",
       "min        2019.0     1.000000     3.000000               4.200000   \n",
       "25%        2019.0     2.000000     4.000000              10.200000   \n",
       "50%        2019.0     3.000000     6.000000              12.050000   \n",
       "75%        2019.0     3.600000     6.000000              14.300000   \n",
       "max        2019.0     8.000000    16.000000              26.800000   \n",
       "\n",
       "       Fuel-Consumption-Hwy  Fuel-Consumption-Comb  CO2-Emissions  \n",
       "count           1046.000000            1046.000000    1046.000000  \n",
       "mean               9.038050              10.872562     251.312620  \n",
       "std                2.049742               2.697321      57.017573  \n",
       "min                4.000000               4.100000      96.000000  \n",
       "25%                7.600000               9.100000     212.250000  \n",
       "50%                8.800000              10.600000     248.000000  \n",
       "75%               10.200000              12.575000     289.000000  \n",
       "max               17.200000              22.200000     522.000000  "
      ]
     },
     "execution_count": 11,
     "metadata": {},
     "output_type": "execute_result"
    }
   ],
   "source": [
    "df.describe()"
   ]
  },
  {
   "cell_type": "code",
   "execution_count": 12,
   "id": "cb879ac5-6830-4598-9da1-6581cfe9b8f1",
   "metadata": {
    "tags": []
   },
   "outputs": [
    {
     "data": {
      "text/plain": [
       "Model-Year               1046\n",
       "Make                     1046\n",
       "Model                    1046\n",
       "Vehicle-Class            1046\n",
       "Engine-Size              1046\n",
       "Cylinders                1046\n",
       "Transmission             1046\n",
       "Fuel-Type                1046\n",
       "Fuel-Consumption-City    1046\n",
       "Fuel-Consumption-Hwy     1046\n",
       "Fuel-Consumption-Comb    1046\n",
       "CO2-Emissions            1046\n",
       "dtype: int64"
      ]
     },
     "execution_count": 12,
     "metadata": {},
     "output_type": "execute_result"
    }
   ],
   "source": [
    "df.count()"
   ]
  },
  {
   "cell_type": "code",
   "execution_count": 4,
   "id": "68996387-086a-4020-a39b-735ac37b4471",
   "metadata": {
    "tags": []
   },
   "outputs": [],
   "source": [
    "Data_new=Data[[\"Engine-Size\",\"CO2-Emissions\"]]"
   ]
  },
  {
   "cell_type": "code",
   "execution_count": 21,
   "id": "f9f0a6f3-16f9-4158-a375-4c8a8c173445",
   "metadata": {
    "tags": []
   },
   "outputs": [
    {
     "data": {
      "text/plain": [
       "Text(0, 0.5, 'CO2-Emissions')"
      ]
     },
     "execution_count": 21,
     "metadata": {},
     "output_type": "execute_result"
    },
    {
     "data": {
      "image/png": "[encoded data removed]",
      "text/plain": [
       "<Figure size 640x480 with 1 Axes>"
      ]
     },
     "metadata": {},
     "output_type": "display_data"
    }
   ],
   "source": [
    "plt.scatter(Data_new[\"Engine-Size\"],Data_new[\"CO2-Emissions\"],color=\"black\")\n",
    "plt.xlabel(\"Engine-Size\")\n",
    "plt.ylabel(\"CO2-Emissions\")           "
   ]
  },
  {
   "cell_type": "code",
   "execution_count": 8,
   "id": "e4b751e3-cddd-41ac-bd40-3619b7eebd62",
   "metadata": {},
   "outputs": [],
   "source": [
    "from sklearn.model_selection import train_test_split\n",
    "X_train,X_test,y_train,y_test=train_test_split(Data_new,Data_new,train_size=0.8)"
   ]
  },
  {
   "cell_type": "code",
   "execution_count": 9,
   "id": "e3940521-53da-479a-9cb0-c46db1632022",
   "metadata": {
    "tags": []
   },
   "outputs": [
    {
     "data": {
      "text/html": [
       "<style>#sk-container-id-1 {color: black;}#sk-container-id-1 pre{padding: 0;}#sk-container-id-1 div.sk-toggleable {background-color: white;}#sk-container-id-1 label.sk-toggleable__label {cursor: pointer;display: block;width: 100%;margin-bottom: 0;padding: 0.3em;box-sizing: border-box;text-align: center;}#sk-container-id-1 label.sk-toggleable__label-arrow:before {content: \"▸\";float: left;margin-right: 0.25em;color: #696969;}#sk-container-id-1 label.sk-toggleable__label-arrow:hover:before {color: black;}#sk-container-id-1 div.sk-estimator:hover label.sk-toggleable__label-arrow:before {color: black;}#sk-container-id-1 div.sk-toggleable__content {max-height: 0;max-width: 0;overflow: hidden;text-align: left;background-color: #f0f8ff;}#sk-container-id-1 div.sk-toggleable__content pre {margin: 0.2em;color: black;border-radius: 0.25em;background-color: #f0f8ff;}#sk-container-id-1 input.sk-toggleable__control:checked~div.sk-toggleable__content {max-height: 200px;max-width: 100%;overflow: auto;}#sk-container-id-1 input.sk-toggleable__control:checked~label.sk-toggleable__label-arrow:before {content: \"▾\";}#sk-container-id-1 div.sk-estimator input.sk-toggleable__control:checked~label.sk-toggleable__label {background-color: #d4ebff;}#sk-container-id-1 div.sk-label input.sk-toggleable__control:checked~label.sk-toggleable__label {background-color: #d4ebff;}#sk-container-id-1 input.sk-hidden--visually {border: 0;clip: rect(1px 1px 1px 1px);clip: rect(1px, 1px, 1px, 1px);height: 1px;margin: -1px;overflow: hidden;padding: 0;position: absolute;width: 1px;}#sk-container-id-1 div.sk-estimator {font-family: monospace;background-color: #f0f8ff;border: 1px dotted black;border-radius: 0.25em;box-sizing: border-box;margin-bottom: 0.5em;}#sk-container-id-1 div.sk-estimator:hover {background-color: #d4ebff;}#sk-container-id-1 div.sk-parallel-item::after {content: \"\";width: 100%;border-bottom: 1px solid gray;flex-grow: 1;}#sk-container-id-1 div.sk-label:hover label.sk-toggleable__label {background-color: #d4ebff;}#sk-container-id-1 div.sk-serial::before {content: \"\";position: absolute;border-left: 1px solid gray;box-sizing: border-box;top: 0;bottom: 0;left: 50%;z-index: 0;}#sk-container-id-1 div.sk-serial {display: flex;flex-direction: column;align-items: center;background-color: white;padding-right: 0.2em;padding-left: 0.2em;position: relative;}#sk-container-id-1 div.sk-item {position: relative;z-index: 1;}#sk-container-id-1 div.sk-parallel {display: flex;align-items: stretch;justify-content: center;background-color: white;position: relative;}#sk-container-id-1 div.sk-item::before, #sk-container-id-1 div.sk-parallel-item::before {content: \"\";position: absolute;border-left: 1px solid gray;box-sizing: border-box;top: 0;bottom: 0;left: 50%;z-index: -1;}#sk-container-id-1 div.sk-parallel-item {display: flex;flex-direction: column;z-index: 1;position: relative;background-color: white;}#sk-container-id-1 div.sk-parallel-item:first-child::after {align-self: flex-end;width: 50%;}#sk-container-id-1 div.sk-parallel-item:last-child::after {align-self: flex-start;width: 50%;}#sk-container-id-1 div.sk-parallel-item:only-child::after {width: 0;}#sk-container-id-1 div.sk-dashed-wrapped {border: 1px dashed gray;margin: 0 0.4em 0.5em 0.4em;box-sizing: border-box;padding-bottom: 0.4em;background-color: white;}#sk-container-id-1 div.sk-label label {font-family: monospace;font-weight: bold;display: inline-block;line-height: 1.2em;}#sk-container-id-1 div.sk-label-container {text-align: center;}#sk-container-id-1 div.sk-container {/* jupyter's `normalize.less` sets `[hidden] { display: none; }` but bootstrap.min.css set `[hidden] { display: none !important; }` so we also need the `!important` here to be able to override the default hidden behavior on the sphinx rendered scikit-learn.org. See: https://github.com/scikit-learn/scikit-learn/issues/21755 */display: inline-block !important;position: relative;}#sk-container-id-1 div.sk-text-repr-fallback {display: none;}</style><div id=\"sk-container-id-1\" class=\"sk-top-container\"><div class=\"sk-text-repr-fallback\"><pre>LinearRegression()</pre><b>In a Jupyter environment, please rerun this cell to show the HTML representation or trust the notebook. <br />On GitHub, the HTML representation is unable to render, please try loading this page with nbviewer.org.</b></div><div class=\"sk-container\" hidden><div class=\"sk-item\"><div class=\"sk-estimator sk-toggleable\"><input class=\"sk-toggleable__control sk-hidden--visually\" id=\"sk-estimator-id-1\" type=\"checkbox\" checked><label for=\"sk-estimator-id-1\" class=\"sk-toggleable__label sk-toggleable__label-arrow\">LinearRegression</label><div class=\"sk-toggleable__content\"><pre>LinearRegression()</pre></div></div></div></div></div>"
      ],
      "text/plain": [
       "LinearRegression()"
      ]
     },
     "execution_count": 9,
     "metadata": {},
     "output_type": "execute_result"
    }
   ],
   "source": [
    "regr=linear_model.LinearRegression()\n",
    "train_x=np.array(X_train[[\"Engine-Size\"]])\n",
    "train_y=np.array(y_train[[\"CO2-Emissions\"]])\n",
    "regr.fit(train_x,train_y)"
   ]
  },
  {
   "cell_type": "code",
   "execution_count": 10,
   "id": "b7dc6376-1c94-4cb1-9809-ef99a5bfce1c",
   "metadata": {
    "tags": []
   },
   "outputs": [
    {
     "name": "stdout",
     "output_type": "stream",
     "text": [
      "B1: [[37.05522838]]\n",
      "B0: [136.04969764]\n"
     ]
    }
   ],
   "source": [
    "print(\"B1:\",regr.coef_)\n",
    "print(\"B0:\",regr.intercept_)\n",
    "B0=regr.intercept_\n",
    "B1=regr.coef_"
   ]
  },
  {
   "cell_type": "code",
   "execution_count": 20,
   "id": "957f3500-90ce-4ce9-ac6a-8eec9419083a",
   "metadata": {
    "tags": []
   },
   "outputs": [
    {
     "data": {
      "text/plain": [
       "[<matplotlib.lines.Line2D at 0x2311f9de5d0>]"
      ]
     },
     "execution_count": 20,
     "metadata": {},
     "output_type": "execute_result"
    },
    {
     "data": {
      "image/png": "[encoded data removed]",
      "text/plain": [
       "<Figure size 640x480 with 1 Axes>"
      ]
     },
     "metadata": {},
     "output_type": "display_data"
    }
   ],
   "source": [
    "plt.scatter(Data_new[\"Engine-Size\"],Data_new[\"CO2-Emissions\"],color=\"green\")\n",
    "plt.xlabel(\"Engine-Size\")\n",
    "plt.ylabel(\"CO2-Emissions\") \n",
    "plt.plot(train_x,B0+B1*train_x,\"-r\")"
   ]
  },
  {
   "cell_type": "code",
   "execution_count": 14,
   "id": "1310dd0e-ec2f-427c-9c31-2173d6277e6d",
   "metadata": {
    "tags": []
   },
   "outputs": [],
   "source": [
    "def get_regression_prediction(input_feature,B0,B1):\n",
    "    prediction =B0+B1*input_feature \n",
    "    return prediction"
   ]
  },
  {
   "cell_type": "code",
   "execution_count": 15,
   "id": "990877a3-44b4-4ae5-88e1-1e7329584963",
   "metadata": {
    "tags": []
   },
   "outputs": [
    {
     "name": "stdout",
     "output_type": "stream",
     "text": [
      "Estimated Co2Emissionm: [[265.74299697]]\n"
     ]
    }
   ],
   "source": [
    "enginesize=3.5\n",
    "estimated_Co2Emission=get_regression_prediction(enginesize,B0,B1)\n",
    "print(\"Estimated Co2Emissionm:\",estimated_Co2Emission)"
   ]
  },
  {
   "cell_type": "code",
   "execution_count": 22,
   "id": "5f2c1ac9-1d11-49fb-bd8a-f2d7d2ff4faa",
   "metadata": {
    "tags": []
   },
   "outputs": [],
   "source": [
    "test_x=np.array(X_test[[\"Engine-Size\"]])\n",
    "test_y=np.array(y_test[[\"CO2-Emissions\"]])\n",
    "test_yy=regr.predict(test_x)"
   ]
  },
  {
   "cell_type": "code",
   "execution_count": 26,
   "id": "fc497e69-04f2-4a6e-9717-fc661be50945",
   "metadata": {
    "tags": []
   },
   "outputs": [
    {
     "data": {
      "text/plain": [
       "1083.1649449138426"
      ]
     },
     "execution_count": 26,
     "metadata": {},
     "output_type": "execute_result"
    }
   ],
   "source": [
    "Error=np.mean((test_y-test_yy)**2)\n",
    "Error"
   ]
  }
 ],
 "metadata": {
  "kernelspec": {
   "display_name": "Python 3 (ipykernel)",
   "language": "python",
   "name": "python3"
  },
  "language_info": {
   "codemirror_mode": {
    "name": "ipython",
    "version": 3
   },
   "file_extension": ".py",
   "mimetype": "text/x-python",
   "name": "python",
   "nbconvert_exporter": "python",
   "pygments_lexer": "ipython3",
   "version": "3.11.5"
  }
 },
 "nbformat": 4,
 "nbformat_minor": 5
}
